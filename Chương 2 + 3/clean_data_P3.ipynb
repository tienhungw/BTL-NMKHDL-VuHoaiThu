{
  "nbformat": 4,
  "nbformat_minor": 0,
  "metadata": {
    "colab": {
      "provenance": []
    },
    "kernelspec": {
      "name": "python3",
      "display_name": "Python 3"
    },
    "language_info": {
      "name": "python"
    }
  },
  "cells": [
    {
      "cell_type": "code",
      "execution_count": null,
      "metadata": {
        "id": "t5bC5BRjl4nB"
      },
      "outputs": [],
      "source": [
        "import pandas as pd\n",
        "import matplotlib.pyplot as plt\n",
        "import seaborn as sns\n",
        "import os\n",
        "from sklearn.preprocessing import MinMaxScaler, StandardScaler"
      ]
    },
    {
      "cell_type": "code",
      "source": [
        "# Tạo thư mục lưu biểu đồ\n",
        "os.makedirs(\"charts\", exist_ok=True)\n",
        "\n",
        "# Đọc dữ liệu\n",
        "df = pd.read_csv(\"clean_data_P2.csv\")"
      ],
      "metadata": {
        "id": "09mHyYsRmVTN"
      },
      "execution_count": null,
      "outputs": []
    },
    {
      "cell_type": "code",
      "source": [
        "# Chuẩn hóa dữ liệu\n",
        "\n",
        "# Min-Max cho Giá và Diện tích\n",
        "scaler_minmax = MinMaxScaler()\n",
        "df[[\"Giá_MinMax\", \"Diện tích_MinMax\"]] = scaler_minmax.fit_transform(\n",
        "df[[\"Giá (VND)\", \"Diện tích (m2)\"]]\n",
        ")\n",
        "\n",
        "# Z-score cho Giá\n",
        "scaler_zscore = StandardScaler()\n",
        "df[\"Giá_Zscore\"] = scaler_zscore.fit_transform(df[[\"Giá (VND)\"]])\n",
        "\n",
        "# Lưu DataFrame đã chuẩn hóa ra file CSV mới\n",
        "df.to_csv(\"clean_data_P3.csv\", index=False, encoding=\"utf-8-sig\")\n",
        "from google.colab import files\n",
        "files.download(\"clean_data_P3.csv\")\n",
        "\n"
      ],
      "metadata": {
        "colab": {
          "base_uri": "https://localhost:8080/",
          "height": 17
        },
        "id": "7ujeBGRanNGP",
        "outputId": "cc87c8f0-0a15-4ada-8f6f-5202f45dfb6f"
      },
      "execution_count": null,
      "outputs": [
        {
          "output_type": "display_data",
          "data": {
            "text/plain": [
              "<IPython.core.display.Javascript object>"
            ],
            "application/javascript": [
              "\n",
              "    async function download(id, filename, size) {\n",
              "      if (!google.colab.kernel.accessAllowed) {\n",
              "        return;\n",
              "      }\n",
              "      const div = document.createElement('div');\n",
              "      const label = document.createElement('label');\n",
              "      label.textContent = `Downloading \"${filename}\": `;\n",
              "      div.appendChild(label);\n",
              "      const progress = document.createElement('progress');\n",
              "      progress.max = size;\n",
              "      div.appendChild(progress);\n",
              "      document.body.appendChild(div);\n",
              "\n",
              "      const buffers = [];\n",
              "      let downloaded = 0;\n",
              "\n",
              "      const channel = await google.colab.kernel.comms.open(id);\n",
              "      // Send a message to notify the kernel that we're ready.\n",
              "      channel.send({})\n",
              "\n",
              "      for await (const message of channel.messages) {\n",
              "        // Send a message to notify the kernel that we're ready.\n",
              "        channel.send({})\n",
              "        if (message.buffers) {\n",
              "          for (const buffer of message.buffers) {\n",
              "            buffers.push(buffer);\n",
              "            downloaded += buffer.byteLength;\n",
              "            progress.value = downloaded;\n",
              "          }\n",
              "        }\n",
              "      }\n",
              "      const blob = new Blob(buffers, {type: 'application/binary'});\n",
              "      const a = document.createElement('a');\n",
              "      a.href = window.URL.createObjectURL(blob);\n",
              "      a.download = filename;\n",
              "      div.appendChild(a);\n",
              "      a.click();\n",
              "      div.remove();\n",
              "    }\n",
              "  "
            ]
          },
          "metadata": {}
        },
        {
          "output_type": "display_data",
          "data": {
            "text/plain": [
              "<IPython.core.display.Javascript object>"
            ],
            "application/javascript": [
              "download(\"download_a56b784a-a898-4742-b15f-576f19e2a2b7\", \"clean_data (F3).csv\", 669367)"
            ]
          },
          "metadata": {}
        }
      ]
    },
    {
      "cell_type": "code",
      "source": [
        "# Vẽ biểu đồ\n",
        "# Histogram: phân phối giá (đơn vị: Tỷ VND)\n",
        "plt.figure(figsize=(8, 5))\n",
        "sns.histplot(df[\"Giá (VND)\"] / 1e9, bins=50, kde=True)\n",
        "plt.title(\"Phân phối Giá nhà\")\n",
        "plt.xlabel(\"Giá (Tỷ VND)\")\n",
        "plt.ylabel(\"Số lượng\")\n",
        "plt.savefig(\"charts/histogram_gia.png\")\n",
        "plt.close()\n",
        "\n",
        "\n",
        "# Boxplot: so sánh giá theo loại hình căn hộ (đơn vị Tỷ VND)\n",
        "plt.figure(figsize=(12, 5))  # rộng hơn, thấp hơn\n",
        "sns.boxplot(x=\"Loại hình căn hộ\", y=df[\"Giá (VND)\"] / 1e9, data=df)\n",
        "plt.title(\"So sánh Giá theo Loại hình căn hộ\")\n",
        "plt.xlabel(\"Loại hình căn hộ\")\n",
        "plt.ylabel(\"Giá (Tỷ VND)\")\n",
        "plt.xticks(rotation=30, ha=\"right\")  # xoay nhãn X cho dễ đọc\n",
        "plt.tight_layout()\n",
        "plt.savefig(\"charts/boxplot_gia_loaihinh.png\")\n",
        "plt.close()\n",
        "\n",
        "\n",
        "# Scatter Plot: diện tích và giá (đơn vị tỷ VND)\n",
        "plt.figure(figsize=(8, 6))\n",
        "sns.scatterplot(x=\"Diện tích (m2)\", y=df[\"Giá (VND)\"] / 1e9, data=df)\n",
        "plt.title(\"Mối quan hệ giữa Diện tích và Giá\")\n",
        "plt.xlabel(\"Diện tích (m2)\")\n",
        "plt.ylabel(\"Giá (Tỷ VND)\")\n",
        "plt.savefig(\"charts/scatter_dientich_gia.png\")\n",
        "plt.close()\n",
        "\n",
        "\n",
        "# Bar Chart: số lượng tin đăng theo quận/huyện\n",
        "df[\"Quận/Huyện\"] = df[\"Địa chỉ\"].apply(     # Tách tên quận/huyện từ địa chỉ\n",
        "    lambda x: str(x).split(\",\")[-2].strip() if pd.notnull(x) and \",\" in str(x) else x\n",
        ")\n",
        "plt.figure(figsize=(12, 6))                 # Vẽ Bar Chart theo quận/huyện\n",
        "df[\"Quận/Huyện\"].value_counts().head(10).plot(kind=\"bar\")\n",
        "plt.title(\"Top 10 Quận/Huyện có nhiều tin đăng nhất\")\n",
        "plt.xlabel(\"Quận/Huyện\")\n",
        "plt.ylabel(\"Số lượng tin\")\n",
        "plt.xticks(rotation=45)\n",
        "plt.tight_layout()\n",
        "plt.savefig(\"charts/bar_tindang_quan.png\")\n",
        "plt.close()\n",
        "\n",
        "\n",
        "# Pie Chart: tỷ lệ loại hình căn hộ\n",
        "plt.figure(figsize=(5, 5))\n",
        "counts = df[\"Loại hình căn hộ\"].value_counts()\n",
        "labels = counts.index.tolist()\n",
        "labels = [                                  # Đảo lại vị trí \"Đất\" và \"Văn phòng, Mặt bằng kinh doanh\"\n",
        "    \"Nhà ở\" if \"Nhà ở\" in labels else labels[0],\n",
        "    \"Căn hộ/Chung cư\" if \"Căn hộ/Chung cư\" in labels else labels[1],\n",
        "    \"Văn phòng, Mặt bằng kinh doanh\" if \"Văn phòng, Mặt bằng kinh doanh\" in labels else labels[2],\n",
        "    \"Đất\" if \"Đất\" in labels else labels[3],\n",
        "]\n",
        "counts.plot(                                # Vẽ pie chart với labels đã sắp xếp\n",
        "    kind=\"pie\",\n",
        "    labels=labels,\n",
        "    autopct=\"%1.1f%%\",\n",
        "    startangle=90,\n",
        "    textprops={'fontsize': 8}\n",
        ")\n",
        "plt.title(\"Tỷ lệ loại hình căn hộ\")\n",
        "plt.ylabel(\"\")\n",
        "plt.tight_layout()\n",
        "plt.savefig(\"charts/pie_loaihinh.png\")\n",
        "plt.close()\n"
      ],
      "metadata": {
        "id": "Gqf6fubPnz4p"
      },
      "execution_count": null,
      "outputs": []
    },
    {
      "cell_type": "code",
      "source": [
        "# Nén file charts chứa biểu đồ thành file zip\n",
        "import shutil\n",
        "shutil.make_archive(\"charts\", \"zip\", \"charts\")\n",
        "# Tải file zip về\n",
        "from google.colab import files\n",
        "files.download(\"charts.zip\")"
      ],
      "metadata": {
        "colab": {
          "base_uri": "https://localhost:8080/",
          "height": 17
        },
        "id": "NKTmC9PJoq5k",
        "outputId": "6d9c5cf2-2061-420c-bd17-be4b63f81d58"
      },
      "execution_count": null,
      "outputs": [
        {
          "output_type": "display_data",
          "data": {
            "text/plain": [
              "<IPython.core.display.Javascript object>"
            ],
            "application/javascript": [
              "\n",
              "    async function download(id, filename, size) {\n",
              "      if (!google.colab.kernel.accessAllowed) {\n",
              "        return;\n",
              "      }\n",
              "      const div = document.createElement('div');\n",
              "      const label = document.createElement('label');\n",
              "      label.textContent = `Downloading \"${filename}\": `;\n",
              "      div.appendChild(label);\n",
              "      const progress = document.createElement('progress');\n",
              "      progress.max = size;\n",
              "      div.appendChild(progress);\n",
              "      document.body.appendChild(div);\n",
              "\n",
              "      const buffers = [];\n",
              "      let downloaded = 0;\n",
              "\n",
              "      const channel = await google.colab.kernel.comms.open(id);\n",
              "      // Send a message to notify the kernel that we're ready.\n",
              "      channel.send({})\n",
              "\n",
              "      for await (const message of channel.messages) {\n",
              "        // Send a message to notify the kernel that we're ready.\n",
              "        channel.send({})\n",
              "        if (message.buffers) {\n",
              "          for (const buffer of message.buffers) {\n",
              "            buffers.push(buffer);\n",
              "            downloaded += buffer.byteLength;\n",
              "            progress.value = downloaded;\n",
              "          }\n",
              "        }\n",
              "      }\n",
              "      const blob = new Blob(buffers, {type: 'application/binary'});\n",
              "      const a = document.createElement('a');\n",
              "      a.href = window.URL.createObjectURL(blob);\n",
              "      a.download = filename;\n",
              "      div.appendChild(a);\n",
              "      a.click();\n",
              "      div.remove();\n",
              "    }\n",
              "  "
            ]
          },
          "metadata": {}
        },
        {
          "output_type": "display_data",
          "data": {
            "text/plain": [
              "<IPython.core.display.Javascript object>"
            ],
            "application/javascript": [
              "download(\"download_7bde4a98-e910-43c9-86c3-37f3a1775cdc\", \"charts.zip\", 212750)"
            ]
          },
          "metadata": {}
        }
      ]
    },
    {
      "cell_type": "code",
      "source": [
        "#Kết luận ban đầu:\n",
        "# Phân phối giá nhà lệch phải, nhiều tin đăng ở mức giá thấp, một số ít ở giá rất cao.\n",
        "# Boxplot cho thấy căn hộ chung cư và đất nền có khoảng giá khác biệt rõ rệt.\n",
        "# Scatter plot cho thấy xu hướng diện tích càng lớn thì giá càng tăng, nhưng không tuyến tính.\n",
        "# Một số quận tập trung nhiều tin đăng hơn hẳn, thể hiện thị trường sôi động.\n",
        "# Loại hình căn hộ chủ yếu tập trung vào 2-3 loại chính, các loại khác chiếm tỷ lệ nhỏ."
      ],
      "metadata": {
        "id": "vxd10ycCx7Ae"
      },
      "execution_count": null,
      "outputs": []
    }
  ]
}